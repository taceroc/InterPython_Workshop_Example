{
 "cells": [
  {
   "cell_type": "code",
   "execution_count": 1,
   "id": "3041af41-4323-4572-8ff5-5b43572afa4f",
   "metadata": {},
   "outputs": [],
   "source": [
    "import os\n",
    "import pandas as pd\n",
    "import numpy as np\n",
    "import matplotlib.pyplot as plt\n",
    "from lcanalyzer import models"
   ]
  },
  {
   "cell_type": "code",
   "execution_count": 5,
   "id": "ae9cb8e3-c49f-4bc6-ab63-6045726c518e",
   "metadata": {},
   "outputs": [],
   "source": [
    "plot_filter_labels = [\"u\", \"g\", \"r\", \"i\", \"z\", \"y\"]\n",
    "plot_filter_colors = {\n",
    "    \"u\": \"#56b4e9\",\n",
    "    \"g\": \"#008060\",\n",
    "    \"r\": \"#ff4000\",\n",
    "    \"i\": \"#850000\",\n",
    "    \"z\": \"#6600cc\",\n",
    "    \"y\": \"#000000\",\n",
    "}\n",
    "plot_filter_symbols = {\"u\": \"o\", \"g\": \"^\", \"r\": \"v\", \"i\": \"s\", \"z\": \"*\", \"y\": \"p\"}\n",
    "bands = 'ugrizy'\n",
    "mag_col = 'psfMag'\n",
    "time_col = 'expMidptMJD'"
   ]
  },
  {
   "cell_type": "code",
   "execution_count": 3,
   "id": "9b9a347b-5e2a-41ee-95c0-9ba79858b212",
   "metadata": {},
   "outputs": [],
   "source": [
    "lc_datasets = {}\n",
    "lc_datasets[\"lsst\"] = pd.read_pickle(os.path.join(\"data\", \"lsst_RRLyr.pkl\"))\n",
    "lc_datasets[\"kepler\"] = pd.read_csv(os.path.join(\"data\", \"kepler_RRLyr.csv\"))"
   ]
  },
  {
   "cell_type": "code",
   "execution_count": 4,
   "id": "e2b7bbfe-a8d7-4534-ac9a-265044a61464",
   "metadata": {},
   "outputs": [
    {
     "data": {
      "text/plain": [
       "Index(['band', 'ccdVisitId', 'coord_ra', 'coord_dec', 'objectId', 'psfFlux',\n",
       "       'psfFluxErr', 'psfMag', 'ccdVisitId2', 'band2', 'expMidptMJD',\n",
       "       'zeroPoint'],\n",
       "      dtype='object')"
      ]
     },
     "execution_count": 4,
     "metadata": {},
     "output_type": "execute_result"
    }
   ],
   "source": [
    "lc_datasets[\"lsst\"].columns"
   ]
  },
  {
   "cell_type": "code",
   "execution_count": 27,
   "id": "365b66be-6a25-4eb1-b05c-5ee3af71c2f9",
   "metadata": {},
   "outputs": [
    {
     "name": "stdout",
     "output_type": "stream",
     "text": [
      "<__main__.Variable object at 0x7f54a8814a60>\n",
      "{'mjd': array([60559.2973682, 59791.3473572, 60559.2978172, 61017.0665232,\n",
      "       60281.1630512, 59840.2103322, 60560.2654012, 61298.2853162,\n",
      "       60610.1669992, 60881.3838612, 61269.3333562, 59841.2948172,\n",
      "       59840.2107802, 60555.2837972, 60880.4114602, 61109.0454832,\n",
      "       59841.3286042, 60962.2788762, 60260.1801602, 60145.4057402,\n",
      "       60610.1014732, 60962.2669892, 61329.2779102, 60588.1944462,\n",
      "       61329.2769632, 59791.3582372, 59840.2367152, 60993.0741872,\n",
      "       60880.3849662, 60993.0622822, 59958.1258722, 61109.0305462,\n",
      "       60286.0827232, 60962.2656102, 60962.1967542, 60962.1836422,\n",
      "       59840.2284672, 60610.1253832, 60588.2046822, 61356.1581872,\n",
      "       60610.1010252, 60962.3061112, 61084.1131352, 60530.3755112]), 'mag': array([17.0270149 , 17.9296522 , 17.02132289, 17.35962392, 17.64018619,\n",
      "       18.37622276, 17.42335279, 18.38669221, 18.38521324, 18.38482772,\n",
      "       18.38450526, 17.25162572, 18.37937516, 17.88716136, 18.25681606,\n",
      "       18.2554663 , 17.55746683, 18.35766259, 18.3059005 , 18.32610979,\n",
      "       18.39321037, 18.34992003, 17.54769736, 17.62174291, 17.54224865,\n",
      "       17.98639193, 18.35965367, 18.42444871, 18.14996456, 18.39800571,\n",
      "       18.36946863, 18.19869743, 18.36475293, 18.35016222, 18.38033414,\n",
      "       18.37293812, 18.35890407, 18.37379318, 17.2526037 , 18.36709694,\n",
      "       18.39023618, 18.40066128, 17.53591974, 17.01428644])}\n"
     ]
    }
   ],
   "source": [
    "class Variable:\n",
    "    \"\"\"A Variable class\"\"\"\n",
    "    def __init__(self, obj_id):\n",
    "        self.obj_id = obj_id\n",
    "        self.lc = {\n",
    "                   'mjd': np.array([]),\n",
    "                   'mag': np.array([])\n",
    "                  }\n",
    "\n",
    "    def add_observations(self, mjds, mags, mag_errs=None):\n",
    "        \"\"\"\n",
    "        Adds observations to the light curve.\n",
    "    \n",
    "        Args:\n",
    "          mjds: A vector of Modified Julian Dates (x values).\n",
    "          mags: A vector of luminosities (y values).\n",
    "        \"\"\"\n",
    "        self.lc['mjd'] = np.array(mjds)\n",
    "        self.lc['mag'] = np.array(mags)\n",
    "        if mag_errs is not None:\n",
    "          self.lc['mag_errs'] = np.array(mag_errs)\n",
    "\n",
    "        return\n",
    "        \n",
    "    @property\n",
    "    def mean_mag(self):\n",
    "        return np.mean(self.lc['mag'])\n",
    "\n",
    "\n",
    "obj_id = lc_datasets['lsst']['objectId'].unique()[7]\n",
    "b = 'g'\n",
    "filt_band_obj = (lc_datasets['lsst']['objectId'] == obj_id) & (lc_datasets['lsst']['band'] == b)\n",
    "obj_obs = lc_datasets['lsst'][filt_band_obj]\n",
    "star = Variable(obj_id)\n",
    "star.add_observations(obj_obs[time_col],obj_obs[mag_col])\n",
    "print(star)\n",
    "print(star.lc)\n"
   ]
  },
  {
   "cell_type": "code",
   "execution_count": 28,
   "id": "2e5e3dda-810a-4f90-a14a-9da7147398de",
   "metadata": {},
   "outputs": [
    {
     "data": {
      "text/plain": [
       "18.03180312045771"
      ]
     },
     "execution_count": 28,
     "metadata": {},
     "output_type": "execute_result"
    }
   ],
   "source": [
    "star.mean_mag"
   ]
  },
  {
   "cell_type": "code",
   "execution_count": 32,
   "id": "0d908683-31b4-4edc-ba2a-5c17b99fc125",
   "metadata": {},
   "outputs": [],
   "source": [
    "class Lightcurve:\n",
    "    \"\"\"Class Lightcurve\"\"\"\n",
    "    def __init__(self, mjds=None, mags=None, mag_errs = None):\n",
    "        self.lc = {}\n",
    "        if mjds is not None:\n",
    "            self.lc = self.add_observations(mjds, mags, mag_errs)\n",
    "\n",
    "    def add_observations(self, mjds, mags, mag_errs=None):\n",
    "        \"\"\"\n",
    "        Adds observations to the light curve.\n",
    "    \n",
    "        Args:\n",
    "          mjds: A vector of Modified Julian Dates (x values).\n",
    "          mags: A vector of luminosities (y values).\n",
    "        \"\"\"\n",
    "        self.lc['mjd'] = np.array(mjds)\n",
    "        self.lc['mag'] = np.array(mags)\n",
    "        if mag_errs is not None:\n",
    "          self.lc['mag_errs'] = np.array(mag_errs)\n",
    "        return self.lc\n",
    "        \n",
    "    @property\n",
    "    def mean_mag(self):\n",
    "        return np.mean(self.lc['mag'])\n",
    "\n",
    "class Variable:\n",
    "    \"\"\"A Variable class\"\"\"\n",
    "\n",
    "    def __init__(self, obj_id):\n",
    "        self.obj_id = obj_id\n",
    "        self.mband_lc = {}\n",
    "    \n",
    "    def add_lc(self,band,mjds,mags,mag_errs=None):\n",
    "        self.mband_lc[band] = Lightcurve(mjds, mags, mag_errs)\n",
    "        return self.mband_lc\n",
    "        \n",
    "    def __str__(self):\n",
    "        return str(self.obj_id)\n",
    "        \n",
    "\n",
    "\n",
    "    "
   ]
  },
  {
   "cell_type": "code",
   "execution_count": 33,
   "id": "150bb6b0-f9fd-4cd7-ac64-8c80ddd42bcc",
   "metadata": {},
   "outputs": [
    {
     "data": {
      "text/plain": [
       "18.03180312045771"
      ]
     },
     "execution_count": 33,
     "metadata": {},
     "output_type": "execute_result"
    }
   ],
   "source": [
    "star = Variable(obj_id)\n",
    "star.add_lc(band = b, mjds = obj_obs[time_col], mags = obj_obs[mag_col])\n",
    "star.mband_lc['g'].mean_mag"
   ]
  },
  {
   "cell_type": "code",
   "execution_count": 26,
   "id": "26888a2f-9732-44a1-9cdd-7aa67e9d2888",
   "metadata": {},
   "outputs": [
    {
     "name": "stdout",
     "output_type": "stream",
     "text": [
      "{'mjd': array([60559.2973682, 59791.3473572, 60559.2978172, 61017.0665232,\n",
      "       60281.1630512, 59840.2103322, 60560.2654012, 61298.2853162,\n",
      "       60610.1669992, 60881.3838612, 61269.3333562, 59841.2948172,\n",
      "       59840.2107802, 60555.2837972, 60880.4114602, 61109.0454832,\n",
      "       59841.3286042, 60962.2788762, 60260.1801602, 60145.4057402,\n",
      "       60610.1014732, 60962.2669892, 61329.2779102, 60588.1944462,\n",
      "       61329.2769632, 59791.3582372, 59840.2367152, 60993.0741872,\n",
      "       60880.3849662, 60993.0622822, 59958.1258722, 61109.0305462,\n",
      "       60286.0827232, 60962.2656102, 60962.1967542, 60962.1836422,\n",
      "       59840.2284672, 60610.1253832, 60588.2046822, 61356.1581872,\n",
      "       60610.1010252, 60962.3061112, 61084.1131352, 60530.3755112]), 'mag': array([17.0270149 , 17.9296522 , 17.02132289, 17.35962392, 17.64018619,\n",
      "       18.37622276, 17.42335279, 18.38669221, 18.38521324, 18.38482772,\n",
      "       18.38450526, 17.25162572, 18.37937516, 17.88716136, 18.25681606,\n",
      "       18.2554663 , 17.55746683, 18.35766259, 18.3059005 , 18.32610979,\n",
      "       18.39321037, 18.34992003, 17.54769736, 17.62174291, 17.54224865,\n",
      "       17.98639193, 18.35965367, 18.42444871, 18.14996456, 18.39800571,\n",
      "       18.36946863, 18.19869743, 18.36475293, 18.35016222, 18.38033414,\n",
      "       18.37293812, 18.35890407, 18.37379318, 17.2526037 , 18.36709694,\n",
      "       18.39023618, 18.40066128, 17.53591974, 17.01428644])}\n"
     ]
    }
   ],
   "source": [
    "print(star.mband_lc['g'].lc)"
   ]
  },
  {
   "cell_type": "code",
   "execution_count": 34,
   "id": "9d6f8395-65cf-462d-948b-fd918a7ce218",
   "metadata": {},
   "outputs": [
    {
     "name": "stdout",
     "output_type": "stream",
     "text": [
      "{}\n",
      "0.3\n"
     ]
    }
   ],
   "source": [
    "class RRLyrae(Variable):\n",
    "    \"\"\"A class for RR Lyrae stars.\"\"\"\n",
    "    def __init__(self, obj_id):\n",
    "        super().__init__(obj_id)\n",
    "        self.period = None\n",
    "\n",
    "    def period_determination(self, period_range=(0.1,3)):\n",
    "        \"\"\"A function to determine the period\"\"\"\n",
    "        self.period = 0.3\n",
    "        return\n",
    "\n",
    "rr_lyrae = RRLyrae(obj_id)\n",
    "rr_lyrae.period_determination()\n",
    "print(rr_lyrae.mband_lc)\n",
    "print(rr_lyrae.period)\n"
   ]
  },
  {
   "cell_type": "code",
   "execution_count": null,
   "id": "c4cd3095-0017-43f1-93a0-a04c77f7d76b",
   "metadata": {},
   "outputs": [],
   "source": []
  }
 ],
 "metadata": {
  "kernelspec": {
   "display_name": "Python 3 (ipykernel)",
   "language": "python",
   "name": "python3"
  },
  "language_info": {
   "codemirror_mode": {
    "name": "ipython",
    "version": 3
   },
   "file_extension": ".py",
   "mimetype": "text/x-python",
   "name": "python",
   "nbconvert_exporter": "python",
   "pygments_lexer": "ipython3",
   "version": "3.10.11"
  }
 },
 "nbformat": 4,
 "nbformat_minor": 5
}
