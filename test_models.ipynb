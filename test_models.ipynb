{
 "cells": [
  {
   "cell_type": "markdown",
   "id": "d0859faa-dd76-40ac-b908-c573de0dcf9c",
   "metadata": {},
   "source": [
    "imports"
   ]
  },
  {
   "cell_type": "code",
   "execution_count": 3,
   "id": "5c68ff7c-86ab-4ac6-8cb6-3bf2e018d70f",
   "metadata": {},
   "outputs": [],
   "source": [
    "import pandas as pd\n",
    "from lcanalyzer import models"
   ]
  },
  {
   "cell_type": "markdown",
   "id": "a44aca59-fc23-45d4-b34b-e370d0e28d4e",
   "metadata": {},
   "source": [
    "params"
   ]
  },
  {
   "cell_type": "code",
   "execution_count": null,
   "id": "d003d75f-159f-4c8d-a24d-3291275b85c8",
   "metadata": {},
   "outputs": [],
   "source": [
    "# Define the bands names\n",
    "bands = 'ugrizy'"
   ]
  },
  {
   "cell_type": "markdown",
   "id": "cfd4bcfa-5340-41eb-be56-830490fbbfa6",
   "metadata": {},
   "source": [
    "data loading"
   ]
  },
  {
   "cell_type": "code",
   "execution_count": 2,
   "id": "e75bf248-7966-4343-b29e-e3057483905f",
   "metadata": {},
   "outputs": [
    {
     "name": "stdout",
     "output_type": "stream",
     "text": [
      "<class 'pandas.core.frame.DataFrame'>\n",
      "RangeIndex: 11177 entries, 0 to 11176\n",
      "Data columns (total 12 columns):\n",
      " #   Column       Non-Null Count  Dtype  \n",
      "---  ------       --------------  -----  \n",
      " 0   band         11177 non-null  object \n",
      " 1   ccdVisitId   11177 non-null  int64  \n",
      " 2   coord_ra     11177 non-null  float64\n",
      " 3   coord_dec    11177 non-null  float64\n",
      " 4   objectId     11177 non-null  int64  \n",
      " 5   psfFlux      11177 non-null  float64\n",
      " 6   psfFluxErr   11177 non-null  float64\n",
      " 7   psfMag       10944 non-null  float64\n",
      " 8   ccdVisitId2  11177 non-null  int64  \n",
      " 9   band2        11177 non-null  object \n",
      " 10  expMidptMJD  11177 non-null  float64\n",
      " 11  zeroPoint    11177 non-null  float32\n",
      "dtypes: float32(1), float64(6), int64(3), object(2)\n",
      "memory usage: 1004.3+ KB\n"
     ]
    }
   ],
   "source": [
    "lc_datasets = {}\n",
    "lc_datasets['lsst'] = pd.read_pickle('data/lsst_RRLyr.pkl')\n",
    "lc_datasets['lsst'].info()"
   ]
  },
  {
   "cell_type": "markdown",
   "id": "aaca65cc-21af-4651-a3f4-1a4cb7f0d6b3",
   "metadata": {},
   "source": [
    "data inspection"
   ]
  },
  {
   "cell_type": "code",
   "execution_count": 3,
   "id": "9a186074-bc17-465f-8119-d58bbdd05d47",
   "metadata": {},
   "outputs": [
    {
     "data": {
      "text/html": [
       "<div>\n",
       "<style scoped>\n",
       "    .dataframe tbody tr th:only-of-type {\n",
       "        vertical-align: middle;\n",
       "    }\n",
       "\n",
       "    .dataframe tbody tr th {\n",
       "        vertical-align: top;\n",
       "    }\n",
       "\n",
       "    .dataframe thead th {\n",
       "        text-align: right;\n",
       "    }\n",
       "</style>\n",
       "<table border=\"1\" class=\"dataframe\">\n",
       "  <thead>\n",
       "    <tr style=\"text-align: right;\">\n",
       "      <th></th>\n",
       "      <th>band</th>\n",
       "      <th>ccdVisitId</th>\n",
       "      <th>coord_ra</th>\n",
       "      <th>coord_dec</th>\n",
       "      <th>objectId</th>\n",
       "      <th>psfFlux</th>\n",
       "      <th>psfFluxErr</th>\n",
       "      <th>psfMag</th>\n",
       "      <th>ccdVisitId2</th>\n",
       "      <th>band2</th>\n",
       "      <th>expMidptMJD</th>\n",
       "      <th>zeroPoint</th>\n",
       "    </tr>\n",
       "  </thead>\n",
       "  <tbody>\n",
       "    <tr>\n",
       "      <th>0</th>\n",
       "      <td>y</td>\n",
       "      <td>1032263018</td>\n",
       "      <td>62.462569</td>\n",
       "      <td>-44.11336</td>\n",
       "      <td>1251384969897480052</td>\n",
       "      <td>-515.183603</td>\n",
       "      <td>1697.218490</td>\n",
       "      <td>NaN</td>\n",
       "      <td>1032263018</td>\n",
       "      <td>y</td>\n",
       "      <td>61100.069706</td>\n",
       "      <td>30.602301</td>\n",
       "    </tr>\n",
       "    <tr>\n",
       "      <th>1</th>\n",
       "      <td>y</td>\n",
       "      <td>1033987172</td>\n",
       "      <td>62.462569</td>\n",
       "      <td>-44.11336</td>\n",
       "      <td>1251384969897480052</td>\n",
       "      <td>3151.738459</td>\n",
       "      <td>1686.955775</td>\n",
       "      <td>22.653625</td>\n",
       "      <td>1033987172</td>\n",
       "      <td>y</td>\n",
       "      <td>61102.068464</td>\n",
       "      <td>30.606100</td>\n",
       "    </tr>\n",
       "    <tr>\n",
       "      <th>2</th>\n",
       "      <td>u</td>\n",
       "      <td>675163080</td>\n",
       "      <td>62.462569</td>\n",
       "      <td>-44.11336</td>\n",
       "      <td>1251384969897480052</td>\n",
       "      <td>183.449123</td>\n",
       "      <td>209.242045</td>\n",
       "      <td>25.741211</td>\n",
       "      <td>675163080</td>\n",
       "      <td>u</td>\n",
       "      <td>60582.247144</td>\n",
       "      <td>30.469101</td>\n",
       "    </tr>\n",
       "    <tr>\n",
       "      <th>3</th>\n",
       "      <td>y</td>\n",
       "      <td>443055067</td>\n",
       "      <td>62.462569</td>\n",
       "      <td>-44.11336</td>\n",
       "      <td>1251384969897480052</td>\n",
       "      <td>-704.848327</td>\n",
       "      <td>1624.400086</td>\n",
       "      <td>NaN</td>\n",
       "      <td>443055067</td>\n",
       "      <td>y</td>\n",
       "      <td>60215.203585</td>\n",
       "      <td>30.612801</td>\n",
       "    </tr>\n",
       "    <tr>\n",
       "      <th>4</th>\n",
       "      <td>u</td>\n",
       "      <td>466722002</td>\n",
       "      <td>62.462569</td>\n",
       "      <td>-44.11336</td>\n",
       "      <td>1251384969897480052</td>\n",
       "      <td>382.472233</td>\n",
       "      <td>278.926670</td>\n",
       "      <td>24.943500</td>\n",
       "      <td>466722002</td>\n",
       "      <td>u</td>\n",
       "      <td>60261.078221</td>\n",
       "      <td>30.461201</td>\n",
       "    </tr>\n",
       "  </tbody>\n",
       "</table>\n",
       "</div>"
      ],
      "text/plain": [
       "  band  ccdVisitId   coord_ra  coord_dec             objectId      psfFlux  \\\n",
       "0    y  1032263018  62.462569  -44.11336  1251384969897480052  -515.183603   \n",
       "1    y  1033987172  62.462569  -44.11336  1251384969897480052  3151.738459   \n",
       "2    u   675163080  62.462569  -44.11336  1251384969897480052   183.449123   \n",
       "3    y   443055067  62.462569  -44.11336  1251384969897480052  -704.848327   \n",
       "4    u   466722002  62.462569  -44.11336  1251384969897480052   382.472233   \n",
       "\n",
       "    psfFluxErr     psfMag  ccdVisitId2 band2   expMidptMJD  zeroPoint  \n",
       "0  1697.218490        NaN   1032263018     y  61100.069706  30.602301  \n",
       "1  1686.955775  22.653625   1033987172     y  61102.068464  30.606100  \n",
       "2   209.242045  25.741211    675163080     u  60582.247144  30.469101  \n",
       "3  1624.400086        NaN    443055067     y  60215.203585  30.612801  \n",
       "4   278.926670  24.943500    466722002     u  60261.078221  30.461201  "
      ]
     },
     "execution_count": 3,
     "metadata": {},
     "output_type": "execute_result"
    }
   ],
   "source": [
    "lc_datasets['lsst'].head()"
   ]
  },
  {
   "cell_type": "markdown",
   "id": "b00d80e1-2df7-42f1-b508-7b9dea37911f",
   "metadata": {},
   "source": [
    "select light curve from a single object"
   ]
  },
  {
   "cell_type": "code",
   "execution_count": 4,
   "id": "b4ad811b-d211-4e96-8274-c762be44a2cc",
   "metadata": {},
   "outputs": [],
   "source": [
    "### Pick an object\n",
    "obj_id = lc_datasets['lsst']['objectId'].unique()[4]"
   ]
  },
  {
   "cell_type": "code",
   "execution_count": 5,
   "id": "07c8b506-8416-44b3-a228-768917319e08",
   "metadata": {},
   "outputs": [],
   "source": [
    "### Get all the observations for this obj_id for each band\n",
    "# Create an empty dict\n",
    "lc = {}\n",
    "# For each band create a bool array that indicates\n",
    "# that this observation belongs to a certain object and is made in a\n",
    "# certain band\n",
    "for b in bands:\n",
    "    filt_band_obj = (lc_datasets['lsst']['objectId'] == obj_id) & (\n",
    "        lc_datasets['lsst']['band'] == b\n",
    "    )\n",
    "    # Select the observations and store in the dict 'lc'\n",
    "    lc[b] = lc_datasets['lsst'][filt_band_obj]"
   ]
  },
  {
   "cell_type": "code",
   "execution_count": 9,
   "id": "91fab399-cd09-4713-8e85-dd34e169bb9b",
   "metadata": {},
   "outputs": [
    {
     "data": {
      "text/plain": [
       "19.183367224358136"
      ]
     },
     "execution_count": 9,
     "metadata": {},
     "output_type": "execute_result"
    }
   ],
   "source": [
    "models.max_mag(lc['g'],'psfMag')"
   ]
  },
  {
   "cell_type": "markdown",
   "id": "daecc56a-ee5a-4f8f-a778-69256a8bba7d",
   "metadata": {},
   "source": [
    "naive code test"
   ]
  },
  {
   "cell_type": "code",
   "execution_count": 10,
   "id": "31aed94f-fea5-4931-a835-73af7644f9ce",
   "metadata": {},
   "outputs": [],
   "source": [
    "### Get maximum values for all bands\n",
    "def calc_stat(lc, bands, mag_col):\n",
    "    # Define an empty dictionary where we will store the results\n",
    "    stat = {}\n",
    "    # For each band get the maximum value and store it in the dictionary\n",
    "    for b in bands:\n",
    "        stat[b + \"_max\"] = models.max_mag(lc[b], mag_col)\n",
    "    return stat"
   ]
  },
  {
   "cell_type": "code",
   "execution_count": 11,
   "id": "41d6cf9a-12cc-4350-9a5c-c9a6654eae49",
   "metadata": {},
   "outputs": [
    {
     "data": {
      "text/plain": [
       "False"
      ]
     },
     "execution_count": 11,
     "metadata": {},
     "output_type": "execute_result"
    }
   ],
   "source": [
    "df1 = pd.DataFrame(data=[[1, 5, 3], [7, 8, 9], [3, 4, 1]], columns=list(\"abc\"))\n",
    "df2 = pd.DataFrame(data=[[7, 3, 2], [8, 4, 2], [5, 6, 4]], columns=list(\"abc\"))\n",
    "df3 = pd.DataFrame(data=[[2, 6, 3], [1, 3, 6], [8, 9, 1]], columns=list(\"abc\"))\n",
    "test_input = {\"df1\": df1, \"df2\": df2, \"df3\": df3}\n",
    "test_output = {\"df1_max\": 8, \"df12_max\": 6, \"df3_max\": 8}\n",
    "test_output == calc_stat(test_input, [\"df1\", \"df2\", \"df3\"], \"b\")"
   ]
  },
  {
   "cell_type": "code",
   "execution_count": 11,
   "id": "3c9612fa-23e1-47dc-81f1-c5777e901489",
   "metadata": {},
   "outputs": [],
   "source": [
    "def calc_stats(lc, bands, mag_col):\n",
    "    # Calculate max, mean and min values for all bands of a light curve\n",
    "    stats = {}\n",
    "    for b in bands:\n",
    "        stat = {}\n",
    "        stat[\"max\"] = models.max_mag(lc[b], mag_col)\n",
    "        stat[\"mean\"] = models.max_mag(lc[b], mag_col)\n",
    "        stat[\"min\"] = models.mean_mag(lc[b], mag_col)\n",
    "        stats[b] = stat\n",
    "    return pd.DataFrame.from_records(stats)\n"
   ]
  },
  {
   "cell_type": "code",
   "execution_count": 4,
   "id": "2a832c50-5584-4ad1-8b4d-2f34f7a0d9cb",
   "metadata": {},
   "outputs": [],
   "source": [
    "test_cols = list(\"abc\")\n",
    "test_dict = {}\n",
    "test_dict[\"df0\"] = pd.DataFrame(\n",
    "    data=[[8, 8, 0], \n",
    "          [0, 1, 1], \n",
    "          [2, 3, 1], \n",
    "          [7, 9, 7]], columns=test_cols\n",
    ")\n",
    "test_dict[\"df1\"] = pd.DataFrame(\n",
    "    data=[[3, 8, 2], \n",
    "          [3, 8, 0], \n",
    "          [3, 9, 8], \n",
    "          [8, 2, 5]], columns=test_cols\n",
    ")\n",
    "test_dict[\"df2\"] = pd.DataFrame(\n",
    "    data=[[8, 4, 3], \n",
    "          [7, 6, 3], \n",
    "          [4, 2, 9], \n",
    "          [6, 4, 0]], columns=test_cols\n",
    ")\n"
   ]
  },
  {
   "cell_type": "code",
   "execution_count": 5,
   "id": "e6bae963-3bab-465a-8f2e-e1eaac3af0e6",
   "metadata": {},
   "outputs": [],
   "source": [
    "test_output = pd.DataFrame(data=[[9,9,6],[5.25,6.75,4.],[1,2,2]],columns=['df0','df1','df2'],index=['max','mean','min'])"
   ]
  },
  {
   "cell_type": "code",
   "execution_count": 12,
   "id": "f015450d-64d9-4315-97d2-2c5b393421d4",
   "metadata": {},
   "outputs": [
    {
     "ename": "ValueError",
     "evalue": "The truth value of a DataFrame is ambiguous. Use a.empty, a.bool(), a.item(), a.any() or a.all().",
     "output_type": "error",
     "traceback": [
      "\u001b[0;31m---------------------------------------------------------------------------\u001b[0m",
      "\u001b[0;31mValueError\u001b[0m                                Traceback (most recent call last)",
      "\u001b[0;32m/tmp/ipykernel_1649/718438762.py\u001b[0m in \u001b[0;36m?\u001b[0;34m()\u001b[0m\n\u001b[0;32m----> 1\u001b[0;31m \u001b[0;32massert\u001b[0m \u001b[0mcalc_stats\u001b[0m\u001b[0;34m(\u001b[0m\u001b[0mtest_dict\u001b[0m\u001b[0;34m,\u001b[0m \u001b[0mtest_dict\u001b[0m\u001b[0;34m.\u001b[0m\u001b[0mkeys\u001b[0m\u001b[0;34m(\u001b[0m\u001b[0;34m)\u001b[0m\u001b[0;34m,\u001b[0m \u001b[0;34m'b'\u001b[0m\u001b[0;34m)\u001b[0m \u001b[0;34m==\u001b[0m \u001b[0mtest_output\u001b[0m\u001b[0;34m\u001b[0m\u001b[0;34m\u001b[0m\u001b[0m\n\u001b[0m",
      "\u001b[0;32m~/Intermedia_python_tvs/InterPython_Workshop_Example/venv/lib/python3.10/site-packages/pandas/core/generic.py\u001b[0m in \u001b[0;36m?\u001b[0;34m(self)\u001b[0m\n\u001b[1;32m   1574\u001b[0m     \u001b[0;34m@\u001b[0m\u001b[0mfinal\u001b[0m\u001b[0;34m\u001b[0m\u001b[0;34m\u001b[0m\u001b[0m\n\u001b[1;32m   1575\u001b[0m     \u001b[0;32mdef\u001b[0m \u001b[0m__nonzero__\u001b[0m\u001b[0;34m(\u001b[0m\u001b[0mself\u001b[0m\u001b[0;34m)\u001b[0m \u001b[0;34m->\u001b[0m \u001b[0mNoReturn\u001b[0m\u001b[0;34m:\u001b[0m\u001b[0;34m\u001b[0m\u001b[0;34m\u001b[0m\u001b[0m\n\u001b[0;32m-> 1576\u001b[0;31m         raise ValueError(\n\u001b[0m\u001b[1;32m   1577\u001b[0m             \u001b[0;34mf\"The truth value of a {type(self).__name__} is ambiguous. \"\u001b[0m\u001b[0;34m\u001b[0m\u001b[0;34m\u001b[0m\u001b[0m\n\u001b[1;32m   1578\u001b[0m             \u001b[0;34m\"Use a.empty, a.bool(), a.item(), a.any() or a.all().\"\u001b[0m\u001b[0;34m\u001b[0m\u001b[0;34m\u001b[0m\u001b[0m\n\u001b[1;32m   1579\u001b[0m         )\n",
      "\u001b[0;31mValueError\u001b[0m: The truth value of a DataFrame is ambiguous. Use a.empty, a.bool(), a.item(), a.any() or a.all()."
     ]
    }
   ],
   "source": [
    "assert calc_stats(test_dict, test_dict.keys(), 'b') == test_output"
   ]
  },
  {
   "cell_type": "code",
   "execution_count": 7,
   "id": "617b347c-2f94-40d9-8e45-4862afb35fdc",
   "metadata": {},
   "outputs": [],
   "source": [
    "import pandas.testing as pdt"
   ]
  },
  {
   "cell_type": "code",
   "execution_count": 8,
   "id": "b658e8da-1486-478c-ba44-70c95c54a298",
   "metadata": {},
   "outputs": [
    {
     "ename": "AssertionError",
     "evalue": "DataFrame.iloc[:, 0] (column name=\"df0\") are different\n\nDataFrame.iloc[:, 0] (column name=\"df0\") values are different (66.66667 %)\n[index]: [max, mean, min]\n[left]:  [9.0, 9.0, 5.25]\n[right]: [9.0, 5.25, 1.0]\nAt positional index 1, first diff: 9.0 != 5.25",
     "output_type": "error",
     "traceback": [
      "\u001b[0;31m---------------------------------------------------------------------------\u001b[0m",
      "\u001b[0;31mAssertionError\u001b[0m                            Traceback (most recent call last)",
      "Cell \u001b[0;32mIn[8], line 1\u001b[0m\n\u001b[0;32m----> 1\u001b[0m \u001b[43mpdt\u001b[49m\u001b[38;5;241;43m.\u001b[39;49m\u001b[43massert_frame_equal\u001b[49m\u001b[43m(\u001b[49m\u001b[43mcalc_stats\u001b[49m\u001b[43m(\u001b[49m\u001b[43mtest_dict\u001b[49m\u001b[43m,\u001b[49m\u001b[43m \u001b[49m\u001b[43mtest_dict\u001b[49m\u001b[38;5;241;43m.\u001b[39;49m\u001b[43mkeys\u001b[49m\u001b[43m(\u001b[49m\u001b[43m)\u001b[49m\u001b[43m,\u001b[49m\u001b[43m \u001b[49m\u001b[38;5;124;43m'\u001b[39;49m\u001b[38;5;124;43mb\u001b[39;49m\u001b[38;5;124;43m'\u001b[39;49m\u001b[43m)\u001b[49m\u001b[43m,\u001b[49m\n\u001b[1;32m      2\u001b[0m \u001b[43m                              \u001b[49m\u001b[43mtest_output\u001b[49m\u001b[43m,\u001b[49m\n\u001b[1;32m      3\u001b[0m \u001b[43m                             \u001b[49m\u001b[43mcheck_exact\u001b[49m\u001b[38;5;241;43m=\u001b[39;49m\u001b[38;5;28;43;01mFalse\u001b[39;49;00m\u001b[43m,\u001b[49m\n\u001b[1;32m      4\u001b[0m \u001b[43m                             \u001b[49m\u001b[43matol\u001b[49m\u001b[38;5;241;43m=\u001b[39;49m\u001b[38;5;241;43m0.01\u001b[39;49m\u001b[43m)\u001b[49m\n",
      "    \u001b[0;31m[... skipping hidden 2 frame]\u001b[0m\n",
      "File \u001b[0;32mtesting.pyx:55\u001b[0m, in \u001b[0;36mpandas._libs.testing.assert_almost_equal\u001b[0;34m()\u001b[0m\n",
      "File \u001b[0;32mtesting.pyx:173\u001b[0m, in \u001b[0;36mpandas._libs.testing.assert_almost_equal\u001b[0;34m()\u001b[0m\n",
      "File \u001b[0;32m~/Intermedia_python_tvs/InterPython_Workshop_Example/venv/lib/python3.10/site-packages/pandas/_testing/asserters.py:614\u001b[0m, in \u001b[0;36mraise_assert_detail\u001b[0;34m(obj, message, left, right, diff, first_diff, index_values)\u001b[0m\n\u001b[1;32m    611\u001b[0m \u001b[38;5;28;01mif\u001b[39;00m first_diff \u001b[38;5;129;01mis\u001b[39;00m \u001b[38;5;129;01mnot\u001b[39;00m \u001b[38;5;28;01mNone\u001b[39;00m:\n\u001b[1;32m    612\u001b[0m     msg \u001b[38;5;241m+\u001b[39m\u001b[38;5;241m=\u001b[39m \u001b[38;5;124mf\u001b[39m\u001b[38;5;124m\"\u001b[39m\u001b[38;5;130;01m\\n\u001b[39;00m\u001b[38;5;132;01m{\u001b[39;00mfirst_diff\u001b[38;5;132;01m}\u001b[39;00m\u001b[38;5;124m\"\u001b[39m\n\u001b[0;32m--> 614\u001b[0m \u001b[38;5;28;01mraise\u001b[39;00m \u001b[38;5;167;01mAssertionError\u001b[39;00m(msg)\n",
      "\u001b[0;31mAssertionError\u001b[0m: DataFrame.iloc[:, 0] (column name=\"df0\") are different\n\nDataFrame.iloc[:, 0] (column name=\"df0\") values are different (66.66667 %)\n[index]: [max, mean, min]\n[left]:  [9.0, 9.0, 5.25]\n[right]: [9.0, 5.25, 1.0]\nAt positional index 1, first diff: 9.0 != 5.25"
     ]
    }
   ],
   "source": [
    "pdt.assert_frame_equal(calc_stats(test_dict, test_dict.keys(), 'b'),\n",
    "                              test_output,\n",
    "                             check_exact=False,\n",
    "                             atol=0.01)\n"
   ]
  },
  {
   "cell_type": "code",
   "execution_count": null,
   "id": "087c138f-04cc-4f2a-8840-90209cf27c69",
   "metadata": {},
   "outputs": [],
   "source": []
  }
 ],
 "metadata": {
  "kernelspec": {
   "display_name": "Python 3 (ipykernel)",
   "language": "python",
   "name": "python3"
  },
  "language_info": {
   "codemirror_mode": {
    "name": "ipython",
    "version": 3
   },
   "file_extension": ".py",
   "mimetype": "text/x-python",
   "name": "python",
   "nbconvert_exporter": "python",
   "pygments_lexer": "ipython3",
   "version": "3.10.11"
  }
 },
 "nbformat": 4,
 "nbformat_minor": 5
}
