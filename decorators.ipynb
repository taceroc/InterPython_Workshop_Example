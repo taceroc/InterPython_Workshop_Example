{
 "cells": [
  {
   "cell_type": "code",
   "execution_count": null,
   "id": "dffab43e-7c02-445d-868c-6a213c05e94b",
   "metadata": {},
   "outputs": [],
   "source": []
  },
  {
   "cell_type": "code",
   "execution_count": 4,
   "id": "cd4fc725-66b5-4dc3-9cfc-55571d0dbfca",
   "metadata": {},
   "outputs": [
    {
     "name": "stdout",
     "output_type": "stream",
     "text": [
      "Before function call\n",
      "Adding one\n",
      "After function call\n",
      "2\n",
      "Before function call\n",
      "Adding two\n",
      "After function call\n",
      "3\n"
     ]
    }
   ],
   "source": [
    "def with_logging(func):\n",
    "\n",
    "    \"\"\"A decorator which adds logging to a function.\"\"\"\n",
    "    def inner(*args, **kwargs):\n",
    "        print(\"Before function call\")\n",
    "        result = func(*args, **kwargs)\n",
    "        print(\"After function call\")\n",
    "        return result\n",
    "\n",
    "    return inner\n",
    "\n",
    "\n",
    "def add_one(n):\n",
    "    print(\"Adding one\")\n",
    "    return n + 1\n",
    "\n",
    "# Redefine function add_one by wrapping it within with_logging function\n",
    "add_one = with_logging(add_one)\n",
    "\n",
    "# Another way to redefine a function - using a decorator\n",
    "@with_logging\n",
    "def add_two(n):\n",
    "    print(\"Adding two\")\n",
    "    return n + 2\n",
    "\n",
    "print(add_one(1))\n",
    "print(add_two(1))\n"
   ]
  },
  {
   "cell_type": "code",
   "execution_count": 3,
   "id": "4f7df97d-87a1-4830-8643-f1c83deb2115",
   "metadata": {},
   "outputs": [
    {
     "data": {
      "text/plain": [
       "<function __main__.with_logging.<locals>.inner(*args, **kwargs)>"
      ]
     },
     "execution_count": 3,
     "metadata": {},
     "output_type": "execute_result"
    }
   ],
   "source": [
    "add_one"
   ]
  },
  {
   "cell_type": "code",
   "execution_count": 5,
   "id": "0fe3a638-7be6-40cf-b6aa-b3ae8a90d3ed",
   "metadata": {},
   "outputs": [
    {
     "name": "stdout",
     "output_type": "stream",
     "text": [
      "Took 0.082092 seconds\n",
      "333332833333500000\n"
     ]
    }
   ],
   "source": [
    "import time\n",
    "\n",
    "def profile(func):\n",
    "    def inner(*args, **kwargs):\n",
    "        start = time.process_time_ns()\n",
    "        result = func(*args, **kwargs)\n",
    "        stop = time.process_time_ns()\n",
    "\n",
    "        print(\"Took {0} seconds\".format((stop - start) / 1e9))\n",
    "        return result\n",
    "\n",
    "    return inner\n",
    "\n",
    "@profile\n",
    "def measure_me(n):\n",
    "    total = 0\n",
    "    for i in range(n):\n",
    "        total += i * i\n",
    "\n",
    "    return total\n",
    "\n",
    "print(measure_me(1000000))"
   ]
  },
  {
   "cell_type": "code",
   "execution_count": null,
   "id": "c8953b57-de55-47b2-a63e-2361dfe8ac0e",
   "metadata": {},
   "outputs": [],
   "source": []
  }
 ],
 "metadata": {
  "kernelspec": {
   "display_name": "Python 3 (ipykernel)",
   "language": "python",
   "name": "python3"
  },
  "language_info": {
   "codemirror_mode": {
    "name": "ipython",
    "version": 3
   },
   "file_extension": ".py",
   "mimetype": "text/x-python",
   "name": "python",
   "nbconvert_exporter": "python",
   "pygments_lexer": "ipython3",
   "version": "3.10.11"
  }
 },
 "nbformat": 4,
 "nbformat_minor": 5
}
